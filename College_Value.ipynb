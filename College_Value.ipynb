{
  "nbformat": 4,
  "nbformat_minor": 0,
  "metadata": {
    "colab": {
      "name": "College-Value.ipynb",
      "provenance": [],
      "collapsed_sections": []
    },
    "kernelspec": {
      "name": "python3",
      "display_name": "Python 3"
    }
  },
  "cells": [
    {
      "cell_type": "markdown",
      "metadata": {
        "id": "eKNjjVx03JGb",
        "colab_type": "text"
      },
      "source": [
        "## Beginning of Data Eng\n",
        "\n"
      ]
    },
    {
      "cell_type": "code",
      "metadata": {
        "id": "dxBYXXbF2Grs",
        "colab_type": "code",
        "colab": {}
      },
      "source": [
        "import pandas as pd\n",
        "import numpy as np\n",
        "from sklearn.preprocessing import StandardScaler\n",
        "from sklearn.decomposition import PCA\n",
        "from sklearn.model_selection import train_test_split"
      ],
      "execution_count": 0,
      "outputs": []
    },
    {
      "cell_type": "code",
      "metadata": {
        "id": "zoBFcFFd27Wm",
        "colab_type": "code",
        "colab": {}
      },
      "source": [
        "#everything_df is the dataframe for the entire dataset\n",
        "everything_df = pd.read_csv('/content/Most-Recent-Cohorts-All-Data-Elements.csv')"
      ],
      "execution_count": 0,
      "outputs": []
    },
    {
      "cell_type": "markdown",
      "metadata": {
        "id": "yeJlMe6YbNpN",
        "colab_type": "text"
      },
      "source": [
        ""
      ]
    },
    {
      "cell_type": "code",
      "metadata": {
        "id": "FsSJqt0TW30S",
        "colab_type": "code",
        "colab": {}
      },
      "source": [
        "#treasury_df is the dataframe for the data containing more income-focused data\n",
        "treasury_df = pd.read_csv('/content/Most-Recent-Cohorts-Treasury-Elements.csv')"
      ],
      "execution_count": 0,
      "outputs": []
    },
    {
      "cell_type": "code",
      "metadata": {
        "id": "SBHkAhNJ4bng",
        "colab_type": "code",
        "colab": {}
      },
      "source": [
        "everything_df.head()"
      ],
      "execution_count": 0,
      "outputs": []
    },
    {
      "cell_type": "code",
      "metadata": {
        "id": "QW_EK_oT4irQ",
        "colab_type": "code",
        "colab": {}
      },
      "source": [
        "treasury_df.head()"
      ],
      "execution_count": 0,
      "outputs": []
    },
    {
      "cell_type": "code",
      "metadata": {
        "id": "ENF_9ge6XQ55",
        "colab_type": "code",
        "colab": {}
      },
      "source": [
        "target = 'MD_EARN_WNE_P6' # median earnings working not enrolled after 6 years of enrollment"
      ],
      "execution_count": 0,
      "outputs": []
    }
  ]
}